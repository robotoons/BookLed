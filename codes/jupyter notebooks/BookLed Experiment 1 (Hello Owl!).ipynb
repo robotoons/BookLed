{
 "cells": [
  {
   "cell_type": "markdown",
   "id": "bd124ddd-6462-4eda-8ea3-97aa479907e2",
   "metadata": {},
   "source": [
    "## ** BookLed Experiment 1 (Hello Owl!) **\n",
    "--------------------------------------------------------------------------------\n",
    "#### In this experiment we will read the BookLed **Page Identification Sensor** through USB, using a simple python function.\n",
    "---------------------------------------------------------------------------------\n",
    "29/05/2024 V0.0"
   ]
  },
  {
   "cell_type": "markdown",
   "id": "d97d0e3b-aee8-4aee-8d65-bd84c7a5dcb7",
   "metadata": {},
   "source": [
    "# Follow this steps\n",
    "- Connect the BookLed to the PC through USB\n",
    "- Be sure to configure the right COM port number\n",
    "- Power ON the Bookled pushing the button switch\n",
    "- Run the next cell of this notebook"
   ]
  },
  {
   "cell_type": "code",
   "execution_count": null,
   "id": "f7d5ec08-ac2f-4bc1-8378-a6ee00bfe9c0",
   "metadata": {},
   "outputs": [],
   "source": [
    "import serial\n",
    "\n",
    "# Configure serial connection (if needed, change 'COM4' with correct COM port number)\n",
    "ser = serial.Serial(\n",
    "    port='COM4',\n",
    "    baudrate=9600,\n",
    "    bytesize=serial.EIGHTBITS,\n",
    "    parity=serial.PARITY_NONE,\n",
    "    stopbits=serial.STOPBITS_ONE,\n",
    "    timeout=1\n",
    ")\n",
    "\n",
    "def read_last_page_number():\n",
    "    \"\"\"\n",
    "    This function reads data from the serial port and extracts the last\n",
    "    page number from the received data. It handles cases where multiple\n",
    "    page numbers may be sent in a single read.\n",
    "    \"\"\"    \n",
    "    while True:\n",
    "         # Read a line from the serial port until a newline character is found       \n",
    "        line = ser.read_until().decode('utf-8').strip()\n",
    "\n",
    "        # Remove any carriage return and line feed characters for clean debugging\n",
    "        clean_line = line.replace('\\r', '').replace('\\n', '')\n",
    "        #print(f\"Debug: Received line: {clean_line}\")  # Debug print without CR or LF\n",
    "\n",
    "        # Split the cleaned line by the delimiter 'P:' to find all page codes\n",
    "        pages = clean_line.split('P:')\n",
    "        last_page = None\n",
    "\n",
    "        # Iterate through the list of possible page codes\n",
    "        for page in pages:\n",
    "            if page:\n",
    "                try:\n",
    "                    # Strip any extra whitespace and convert the hex value to decimal\n",
    "                    page_number_hex = page.strip()\n",
    "                    page_number_dec = int(page_number_hex, 16)\n",
    "                    # Update the last_page with the most recent valid page number\n",
    "                    last_page = page_number_dec\n",
    "                except (ValueError):\n",
    "                    # Print an error message if conversion fails and continue\n",
    "                    print(\"Error: invalid value\")  # Error print\n",
    "                    continue\n",
    "                    \n",
    "        # Return the last valid page number found\n",
    "        if last_page is not None:\n",
    "            return last_page\n",
    "\n",
    "try:\n",
    "    while True:\n",
    "        # Continuously read and print the current page number\n",
    "        page_number = read_last_page_number()\n",
    "        print(f\"Current Page: {page_number}\")\n",
    "except KeyboardInterrupt:\n",
    "    # Handle the interrupt signal to gracefully close the program\n",
    "    print(\"Program interrupted\")\n",
    "finally:\n",
    "    # Ensure the serial port is closed when the program ends\n",
    "    ser.close()\n"
   ]
  },
  {
   "cell_type": "code",
   "execution_count": null,
   "id": "e933485d-2281-40cd-848b-b4ec89253807",
   "metadata": {},
   "outputs": [],
   "source": [
    "\n"
   ]
  },
  {
   "cell_type": "code",
   "execution_count": null,
   "id": "79d72f3a-4dda-481d-a648-584baf1fe601",
   "metadata": {},
   "outputs": [],
   "source": []
  },
  {
   "cell_type": "code",
   "execution_count": null,
   "id": "829826a0-a0f7-4401-a7ca-e63f7af0dda8",
   "metadata": {},
   "outputs": [],
   "source": []
  },
  {
   "cell_type": "code",
   "execution_count": null,
   "id": "33c79696-556d-40d7-a62a-8d9408adc909",
   "metadata": {},
   "outputs": [],
   "source": []
  },
  {
   "cell_type": "code",
   "execution_count": null,
   "id": "8e07622b-27c5-4a14-b24d-4cfa5817ae32",
   "metadata": {},
   "outputs": [],
   "source": []
  },
  {
   "cell_type": "code",
   "execution_count": null,
   "id": "15b12b01-3f8a-4fa3-9694-03d8e651f60c",
   "metadata": {},
   "outputs": [],
   "source": []
  },
  {
   "cell_type": "code",
   "execution_count": null,
   "id": "8632cc86-52af-4bff-baf7-8080db677f74",
   "metadata": {},
   "outputs": [],
   "source": []
  }
 ],
 "metadata": {
  "kernelspec": {
   "display_name": "Python 3 (ipykernel)",
   "language": "python",
   "name": "python3"
  },
  "language_info": {
   "codemirror_mode": {
    "name": "ipython",
    "version": 3
   },
   "file_extension": ".py",
   "mimetype": "text/x-python",
   "name": "python",
   "nbconvert_exporter": "python",
   "pygments_lexer": "ipython3",
   "version": "3.11.0"
  }
 },
 "nbformat": 4,
 "nbformat_minor": 5
}
